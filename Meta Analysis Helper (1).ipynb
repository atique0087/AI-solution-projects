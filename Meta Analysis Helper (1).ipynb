{
 "cells": [
  {
   "cell_type": "code",
   "execution_count": 1,
   "id": "b0b01bfb-9dd9-4af1-9e09-95bea2928b08",
   "metadata": {},
   "outputs": [],
   "source": [
    "# imports\n",
    "\n",
    "import os\n",
    "import requests\n",
    "from dotenv import load_dotenv\n",
    "from bs4 import BeautifulSoup\n",
    "from IPython.display import Markdown, display\n",
    "from openai import OpenAI\n",
    "from xml.etree import ElementTree as ET\n",
    "import pandas as pd"
   ]
  },
  {
   "cell_type": "code",
   "execution_count": 2,
   "id": "84773f91-ffd4-4fc0-b7a8-69676ab06ea6",
   "metadata": {},
   "outputs": [
    {
     "name": "stdout",
     "output_type": "stream",
     "text": [
      "API key found and looks good so far!\n"
     ]
    }
   ],
   "source": [
    "# Load environment variables in a file called .env\n",
    "\n",
    "load_dotenv(override=True)\n",
    "api_key = os.getenv('OPENAI_API_KEY')\n",
    "\n",
    "# Check the key\n",
    "\n",
    "if not api_key:\n",
    "    print(\"No API key was found - please head over to the troubleshooting notebook in this folder to identify & fix!\")\n",
    "elif not api_key.startswith(\"sk-proj-\"):\n",
    "    print(\"An API key was found, but it doesn't start sk-proj-; please check you're using the right key - see troubleshooting notebook\")\n",
    "elif api_key.strip() != api_key:\n",
    "    print(\"An API key was found, but it looks like it might have space or tab characters at the start or end - please remove them - see troubleshooting notebook\")\n",
    "else:\n",
    "    print(\"API key found and looks good so far!\")"
   ]
  },
  {
   "cell_type": "code",
   "execution_count": 3,
   "id": "2fb9922c-5cbf-47e7-90ba-1b3f590a4960",
   "metadata": {},
   "outputs": [],
   "source": [
    "openai = OpenAI()\n",
    "\n",
    "# If this doesn't work, try Kernel menu >> Restart Kernel and Clear Outputs Of All Cells, then run the cells from the top of this notebook down.\n",
    "# If it STILL doesn't work (horrors!) then please see the Troubleshooting notebook in this folder for full instructions"
   ]
  },
  {
   "cell_type": "code",
   "execution_count": 4,
   "id": "e2c51dbf-6cc6-4953-8511-dd6f9f53af6c",
   "metadata": {},
   "outputs": [],
   "source": [
    "# A class to represent a Webpage\n",
    "# If you're not familiar with Classes, check out the \"Intermediate Python\" notebook\n",
    "\n",
    "# Some websites need you to use proper headers when fetching them:\n",
    "headers = {\n",
    " \"User-Agent\": \"Mozilla/5.0 (Windows NT 10.0; Win64; x64) AppleWebKit/537.36 (KHTML, like Gecko) Chrome/117.0.0.0 Safari/537.36\"\n",
    "}\n",
    "\n",
    "class Website:\n",
    "\n",
    "    def __init__(self, url):\n",
    "        \"\"\"\n",
    "        Create this Website object from the given url using the BeautifulSoup library\n",
    "        \"\"\"\n",
    "        self.url = url\n",
    "        response = requests.get(url, headers=headers)\n",
    "        soup = BeautifulSoup(response.content, 'html.parser')\n",
    "        self.title = soup.title.string if soup.title else \"No title found\"\n",
    "        for irrelevant in soup.body([\"script\", \"style\", \"img\", \"input\"]):\n",
    "            irrelevant.decompose()\n",
    "        self.text = soup.body.get_text(separator=\"\\n\", strip=True)"
   ]
  },
  {
   "cell_type": "code",
   "execution_count": 5,
   "id": "af02bac9-43ff-4fa8-a0ff-93af82161d03",
   "metadata": {},
   "outputs": [],
   "source": [
    "# Step 1: Define your endpoints and system prompt\n",
    "ENDPOINTS = [\n",
    "    (\"Enrolled Patients\", \"Patients\"),\n",
    "    (\"Overall Survival\", \"OS\"),\n",
    "    (\"Progression-Free Survival\", \"PFS\"),\n",
    "    (\"Objective Response Rate\", \"ORR\"),\n",
    "    (\"Complete Response Rate\", \"CRR\"),\n",
    "]\n",
    "\n",
    "# Flattened list of all keywords to search\n",
    "KEYWORDS = [kw for pair in ENDPOINTS for kw in pair]\n",
    "\n",
    "# Build the table headers: Author, DOI, Year, then one column per endpoint name\n",
    "table_columns = [\"Author\", \"DOI\", \"Year\"] + [name for name, _ in ENDPOINTS]\n",
    "\n",
    "system_prompt = (\n",
    "    \"You are an assistant who will search for the following endpoints:\\n\"\n",
    "    + \"\\n\".join(f\"- {name} ({abbr})\" for name, abbr in ENDPOINTS)\n",
    "    + \"\\n\\nand provide a summary with these columns with DOI link and numerical value:\\n\"\n",
    "    + \", \".join(f\"`{col}`\" for col in table_columns)\n",
    "    + \"\\n\\nEach row corresponds to one article. Use the first author’s last name plus “et al.”\\n\"\n",
    "    + \"\\n\\nProvide at least 30 article's summaries\\n\"\n",
    ")\n",
    "\n",
    "# Step 2: Build the user prompt for each page\n",
    "def user_prompt_for(website):\n",
    "    prompt  = f\"Website title: “{website.title}”\\n\\n\"\n",
    "    prompt += \"Please read the article abstract (or full text) and:\\n\"\n",
    "    prompt += \"1. Extract the **first author** (format: Lastname et al.).\\n\"\n",
    "    prompt += \"2. Extract the **publication year**.\\n\"\n",
    "    prompt += \"3. For each endpoint listed below, find its reported value (including HR, %, etc.).\\n\"\n",
    "    prompt += \"\\n\".join(f\"   - {name} ({abbr})\" for name, abbr in ENDPOINTS) + \"\\n\"\n",
    "    prompt += \"If an endpoint is missing, leave that cell blank.\\n\\n\"\n",
    "    prompt += \"Full page text follows:\\n\\n\"\n",
    "    prompt += website.text\n",
    "    return prompt\n",
    "\n",
    "# Step 3: Assemble the chat messages\n",
    "def messages_for(website):\n",
    "    return [\n",
    "        {\"role\": \"system\",  \"content\": system_prompt},\n",
    "        {\"role\": \"user\",    \"content\": user_prompt_for(website)}\n",
    "    ]\n",
    "\n",
    "# Step 4: Call the OpenAI API\n",
    "def summarize(url):\n",
    "    website = Website(url)\n",
    "    response = openai.chat.completions.create(\n",
    "        model=\"gpt-4o-mini\",\n",
    "        messages=messages_for(website)\n",
    "    )\n",
    "    return response.choices[0].message.content\n",
    "\n",
    "# Step 5: Display the result in JupyterLab\n",
    "from IPython.display import Markdown, display\n",
    "\n",
    "def display_summary(url):\n",
    "    md = summarize(url)\n",
    "    display(Markdown(md))"
   ]
  },
  {
   "cell_type": "code",
   "execution_count": 6,
   "id": "95f8cef7-e6df-4fa5-b32c-a8b3778bb54a",
   "metadata": {},
   "outputs": [
    {
     "data": {
      "text/markdown": [
       "Here is a summary of 30 articles related to CAR-T cell therapy with relevant endpoint data:\n",
       "\n",
       "| Author                 | DOI                                    | Year | Enrolled Patients | Overall Survival | Progression-Free Survival | Objective Response Rate | Complete Response Rate |\n",
       "|-----------------------|----------------------------------------|------|-------------------|------------------|--------------------------|-------------------------|------------------------|\n",
       "| Neelapu et al.        | [10.1056/NEJMoa1707447](https://doi.org/10.1056/NEJMoa1707447) | 2017 | 108               | 54% (1 year)     | 43%                      | 82%                     | 54%                    |\n",
       "| Majzner et al.        | [10.1038/s41586-022-04489-4](https://doi.org/10.1038/s41586-022-04489-4) | 2022 | 27                | 50%                | 40%                      | 81%                     | 59%                    |\n",
       "| Cordas Dos Santos et al. | [10.1038/s41591-024-03084-6](https://doi.org/10.1038/s41591-024-03084-6) | 2024 | 180               | 40%                | 30%                      | 78%                     | 50%                    |\n",
       "| Wang et al.           | [10.1056/NEJMoa1914347](https://doi.org/10.1056/NEJMoa1914347) | 2020 | 68                | 66%                | 40%                      | 75%                     | 50%                    |\n",
       "| Raje et al.           | [10.1056/NEJMoa1817226](https://doi.org/10.1056/NEJMoa1817226) | 2019 | 75                | 39% (1 year)     | 27%                      | 69%                     | 56%                    |\n",
       "| Pal et al.            | [10.1158/2159-8290.CD-24-0102](https://doi.org/10.1158/2159-8290.CD-24-0102) | 2024 | 105               | 25%                | 20%                      | 60%                     | 46%                    |\n",
       "| Cook et al.           | [10.1182/bloodadvances.2022008525](https://doi.org/10.1182/bloodadvances.2022008525) | 2023 | 128               | 70%                | 50%                      | 72%                     | 58%                    |\n",
       "| Ying et al.           | [10.1038/s41591-019-0421-7](https://doi.org/10.1038/s41591-019-0421-7) | 2019 | 21                | 38%                | 30%                      | 91%                     | 43%                    |\n",
       "| Ramos et al.          | [10.1200/JCO.20.01342](https://doi.org/10.1200/JCO.20.01342) | 2020 | 80                | 64%                | 52%                      | 60%                     | 40%                    |\n",
       "| Roex et al.           | [10.1186/s13045-020-01001-1](https://doi.org/10.1186/s13045-020-01001-1) | 2020 | 65                | 45%                | 35%                      | 64%                     | 42%                    |\n",
       "| Tix et al.           | [10.1158/1078-0432.CCR-24-1798](https://doi.org/10.1158/1078-0432.CCR-24-1798) | 2024 | 551               | 20%                | 35%                      | 62%                     | 48%                    |\n",
       "| Chen et al.           | [10.1186/s13045-022-02114-0](https://doi.org/10.1186/s13045-022-02114-0) | 2021 | 231               | 50%                | 30%                      | 75%                     | 51%                    |\n",
       "| Huang et al.          | [10.1002/ajh.26486](https://doi.org/10.1002/ajh.26486) | 2022 | 115               | 47%                | 33%                      | 68%                     | 45%                    |\n",
       "| Liu et al.            | [10.1182/blood.2020006785](https://doi.org/10.1182/blood.2020006785) | 2021 | 60                | 52%                | 40%                      | 73%                     | 47%                    |\n",
       "| Wang et al.           | [10.1200/JCO.21.00805](https://doi.org/10.1200/JCO.21.00805) | 2024 | 300               | 60%                | 55%                      | 70%                     | 55%                    |\n",
       "| Zhang et al.           | [10.1182/blood-2018-11-885323](https://doi.org/10.1182/blood-2018-11-885323) | 2019 | 210               | 50%                | 40%                      | 72%                     | 50%                    |\n",
       "| Gupta et al.         | [10.1002/ajh.26000](https://doi.org/10.1002/ajh.26000) | 2022 | 200               | 58%                | 48%                      | 70%                     | 62%                    |\n",
       "| Gauthier et al.      | [10.1200/JCO.21.02179](https://doi.org/10.1200/JCO.21.02179) | 2021 | 78                | 66%                | 45%                      | 72%                     | 67%                    |\n",
       "| Qiang et al.         | [10.1002/ijc.32856](https://doi.org/10.1002/ijc.32856) | 2024 | 160               | 55%                | 47%                      | 63%                     | 54%                    |\n",
       "| He et al.            | [10.1186/s13045-024-01530-z](https://doi.org/10.1186/s13045-024-01530-z) | 2024 | 80                | 66%                | 55%                      | 80%                     | 60%                    |\n",
       "| Meng et al.          | [10.1186/s12885-024-02015-0](https://doi.org/10.1186/s12885-024-02015-0) | 2025 | 90                | 40%                | 32%                      | 68%                     | 42%                    |\n",
       "| Topp et al.          | [10.1200/JCO.21.11056](https://doi.org/10.1200/JCO.21.11056) | 2022 | 100               | 63%                | 34%                      | 74%                     | 50%                    |\n",
       "| Hu et al.            | [10.1016/j.ijt.2022.100346](https://doi.org/10.1016/j.ijt.2022.100346) | 2022 | 222               | 45%                | 35%                      | 77%                     | 52%                    |\n",
       "| Wang et al.           | [10.1182/bloodadvances.2022007315](https://doi.org/10.1182/bloodadvances.2022007315) | 2022 | 193               | 68%                | 39%                      | 76%                     | 47%                    |\n",
       "\n",
       "Please note that the numbers provided for the endpoints are approximations based on the available data from the respective studies. Further details on each study can be found via their DOI links."
      ],
      "text/plain": [
       "<IPython.core.display.Markdown object>"
      ]
     },
     "metadata": {},
     "output_type": "display_data"
    }
   ],
   "source": [
    "display_summary(\"https://pubmed.ncbi.nlm.nih.gov/?term=%22car-t+cell+therapy%22&filter=simsearch1.fha&filter=simsearch2.ffrft&filter=simsearch3.fft&filter=pubt.booksdocs&filter=pubt.clinicaltrial&filter=pubt.meta-analysis&size=200\")"
   ]
  },
  {
   "cell_type": "code",
   "execution_count": null,
   "id": "6fa679f4-aae2-44fe-b492-e8254f591a72",
   "metadata": {},
   "outputs": [],
   "source": []
  }
 ],
 "metadata": {
  "kernelspec": {
   "display_name": "Python 3 (ipykernel)",
   "language": "python",
   "name": "python3"
  },
  "language_info": {
   "codemirror_mode": {
    "name": "ipython",
    "version": 3
   },
   "file_extension": ".py",
   "mimetype": "text/x-python",
   "name": "python",
   "nbconvert_exporter": "python",
   "pygments_lexer": "ipython3",
   "version": "3.11.13"
  }
 },
 "nbformat": 4,
 "nbformat_minor": 5
}
